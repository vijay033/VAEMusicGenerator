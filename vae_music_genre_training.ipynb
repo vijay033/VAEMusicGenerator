{
 "cells": [
  {
   "cell_type": "code",
   "execution_count": null,
   "metadata": {},
   "outputs": [],
   "source": [
    "import os\n",
    "from glob import glob\n",
    "import numpy as np\n",
    "from tqdm import tqdm\n",
    "\n",
    "from models.VAE import VariationalAutoencoder\n",
    "from keras.preprocessing.image import ImageDataGenerator"
   ]
  },
  {
   "cell_type": "code",
   "execution_count": null,
   "metadata": {},
   "outputs": [],
   "source": [
    "os.environ['TF_FORCE_GPU_ALLOW_GROWTH'] = 'true'"
   ]
  },
  {
   "cell_type": "code",
   "execution_count": null,
   "metadata": {},
   "outputs": [],
   "source": [
    "import os\n",
    "import glob"
   ]
  },
  {
   "cell_type": "markdown",
   "metadata": {},
   "source": [
    "###### http://marsyas.info/downloads/datasets.html\n",
    "###### GTZAN Genre Collection"
   ]
  },
  {
   "cell_type": "code",
   "execution_count": null,
   "metadata": {},
   "outputs": [],
   "source": [
    "MUSIC_FOLDER = './VAE_MusicComposer/data'"
   ]
  },
  {
   "cell_type": "code",
   "execution_count": null,
   "metadata": {},
   "outputs": [],
   "source": [
    "DATA_FOLDER1 = './VAE_MusicComposer/data/blues'\n",
    "DATA_FOLDER2 = './VAE_MusicComposer/data/classical'\n",
    "DATA_FOLDER3 = './VAE_MusicComposer/data/country'\n",
    "DATA_FOLDER4 = './VAE_MusicComposer/data/disco'\n",
    "DATA_FOLDER5 = './VAE_MusicComposer/data/hiphop'\n",
    "DATA_FOLDER6 = './VAE_MusicComposer/data/jazz'\n",
    "DATA_FOLDER7 = './VAE_MusicComposer/data/metal'\n",
    "DATA_FOLDER8 = './VAE_MusicComposer/data/pop'\n",
    "DATA_FOLDER9 = './VAE_MusicComposer/data/reggae'\n",
    "DATA_FOLDER10 = './VAE_MusicComposer/data/rock'\n",
    "DATA = [DATA_FOLDER1,\n",
    "        DATA_FOLDER2,\n",
    "        DATA_FOLDER3,\n",
    "        DATA_FOLDER4,\n",
    "        DATA_FOLDER5,\n",
    "        DATA_FOLDER6,\n",
    "        DATA_FOLDER7,\n",
    "        DATA_FOLDER8,\n",
    "        DATA_FOLDER9,\n",
    "        DATA_FOLDER10]\n",
    "CLASSES = ['blues','classical','country','disco','hiphop','jazz','metal','pop','reggae','rock']"
   ]
  },
  {
   "cell_type": "code",
   "execution_count": null,
   "metadata": {},
   "outputs": [],
   "source": [
    "#spectrogram dimensions\n",
    "# 160, 1024\n",
    "INPUT_DIM = (160,1024,1)"
   ]
  },
  {
   "cell_type": "code",
   "execution_count": null,
   "metadata": {},
   "outputs": [],
   "source": [
    "INPUT_DIM"
   ]
  },
  {
   "cell_type": "code",
   "execution_count": null,
   "metadata": {},
   "outputs": [],
   "source": [
    "INPUT_DIM[:2]"
   ]
  },
  {
   "cell_type": "code",
   "execution_count": null,
   "metadata": {},
   "outputs": [],
   "source": [
    "# run params\n",
    "section = 'music'\n",
    "run_id = '0001'\n",
    "data_name = 'musicdata'\n",
    "RUN_FOLDER = 'VAE_MusicComposer/{}/'.format(section)\n",
    "RUN_FOLDER += '_'.join([run_id, data_name])\n",
    "\n",
    "if not os.path.exists(RUN_FOLDER):\n",
    "    os.mkdir(RUN_FOLDER)\n",
    "    os.mkdir(os.path.join(RUN_FOLDER, 'viz'))\n",
    "    os.mkdir(os.path.join(RUN_FOLDER, 'images'))\n",
    "    os.mkdir(os.path.join(RUN_FOLDER, 'weights'))\n",
    "\n",
    "mode =  'build' #'load' #"
   ]
  },
  {
   "cell_type": "code",
   "execution_count": null,
   "metadata": {},
   "outputs": [],
   "source": [
    "nb_train_samples = 1000\n",
    "batch_size = 1\n",
    "epochs = 100\n",
    "path_to_data = './VAE_MusicComposer/data/'"
   ]
  },
  {
   "cell_type": "code",
   "execution_count": null,
   "metadata": {},
   "outputs": [],
   "source": [
    "lendata = len(DATA)\n",
    "lendata"
   ]
  },
  {
   "cell_type": "code",
   "execution_count": null,
   "metadata": {},
   "outputs": [],
   "source": [
    "source_images = []\n",
    "\n",
    "for i in range(lendata):\n",
    "    path = DATA[i]\n",
    "    class_label = CLASSES[i]\n",
    "    files = os.listdir(path)\n",
    "    for filename in tqdm(glob.glob(os.path.join(path, '*.npy'))):\n",
    "        source_images.append(os.path.join(filename))"
   ]
  },
  {
   "cell_type": "code",
   "execution_count": null,
   "metadata": {},
   "outputs": [],
   "source": [
    "source_images[0]"
   ]
  },
  {
   "cell_type": "code",
   "execution_count": null,
   "metadata": {},
   "outputs": [],
   "source": [
    "from random import shuffle\n",
    "shuffle(source_images)\n",
    "len(source_images)"
   ]
  },
  {
   "cell_type": "code",
   "execution_count": null,
   "metadata": {},
   "outputs": [],
   "source": [
    "def data_gen():\n",
    "    \n",
    "    while True:\n",
    "        for start in range(0, nb_train_samples, batch_size):\n",
    "            x_batch = []\n",
    "            y_batch = []\n",
    "            end = min(start + batch_size, nb_train_samples)\n",
    "            for img_path in range(start, end):\n",
    "#                 print(source_images[img_path])\n",
    "                img = np.load(source_images[img_path])\n",
    "#                 print(img.shape)\n",
    "                img = np.reshape(img,(img.shape[0],img.shape[1],1))\n",
    "                x_batch.append(img)\n",
    "                if CLASSES[0] in source_images[img_path]:\n",
    "                    y_batch.append([\"0\"])\n",
    "                elif CLASSES[1] in source_images[img_path]:\n",
    "                    y_batch.append([\"1\"])\n",
    "                elif CLASSES[2] in source_images[img_path]:\n",
    "                    y_batch.append([\"2\"])\n",
    "                elif CLASSES[3] in source_images[img_path]:\n",
    "                    y_batch.append([\"3\"])\n",
    "                elif CLASSES[4] in source_images[img_path]:\n",
    "                    y_batch.append([\"4\"])\n",
    "                elif CLASSES[5] in source_images[img_path]:\n",
    "                    y_batch.append([\"5\"])\n",
    "                elif CLASSES[6] in source_images[img_path]:\n",
    "                    y_batch.append([\"6\"])\n",
    "                elif CLASSES[7] in source_images[img_path]:\n",
    "                    y_batch.append([\"7\"])\n",
    "                elif CLASSES[8] in source_images[img_path]:\n",
    "                    y_batch.append([\"8\"])\n",
    "                elif CLASSES[9] in source_images[img_path]:\n",
    "                    y_batch.append([\"9\"])\n",
    "            \n",
    "            yield (np.array(x_batch), np.array(y_batch))"
   ]
  },
  {
   "cell_type": "code",
   "execution_count": null,
   "metadata": {},
   "outputs": [],
   "source": [
    "vae = VariationalAutoencoder(\n",
    "                input_dim = INPUT_DIM\n",
    "                , encoder_conv_filters=[32,64,64, 64]\n",
    "                , encoder_conv_kernel_size=[3,3,3,3]\n",
    "                , encoder_conv_strides=[2,2,2,2]\n",
    "                , decoder_conv_t_filters=[64,64,32,1]\n",
    "                , decoder_conv_t_kernel_size=[3,3,3,3]\n",
    "                , decoder_conv_t_strides=[2,2,2,2]\n",
    "                , z_dim=50\n",
    "                , use_batch_norm=True\n",
    "                , use_dropout=True)\n",
    "\n",
    "if mode == 'build':\n",
    "    vae.save(RUN_FOLDER)\n",
    "else:\n",
    "    vae.load_weights(os.path.join(RUN_FOLDER, 'weights/weights.h5'))"
   ]
  },
  {
   "cell_type": "code",
   "execution_count": null,
   "metadata": {},
   "outputs": [],
   "source": [
    "vae.encoder.summary()"
   ]
  },
  {
   "cell_type": "code",
   "execution_count": null,
   "metadata": {},
   "outputs": [],
   "source": [
    "vae.decoder.summary()"
   ]
  },
  {
   "cell_type": "code",
   "execution_count": null,
   "metadata": {},
   "outputs": [],
   "source": [
    "LEARNING_RATE = 0.0005\n",
    "R_LOSS_FACTOR = 10000\n",
    "EPOCHS = 500\n",
    "PRINT_EVERY_N_BATCHES = 100\n",
    "INITIAL_EPOCH = 0"
   ]
  },
  {
   "cell_type": "code",
   "execution_count": null,
   "metadata": {},
   "outputs": [],
   "source": [
    "vae.compile(LEARNING_RATE, R_LOSS_FACTOR)"
   ]
  },
  {
   "cell_type": "code",
   "execution_count": null,
   "metadata": {},
   "outputs": [],
   "source": [
    "vae.train_with_generator(     \n",
    "    data_gen(), \n",
    "    epochs= epochs,\n",
    "    steps_per_epoch= nb_train_samples // batch_size\n",
    "    , run_folder = RUN_FOLDER\n",
    "    , print_every_n_batches = PRINT_EVERY_N_BATCHES\n",
    "    , initial_epoch = INITIAL_EPOCH\n",
    ")"
   ]
  },
  {
   "cell_type": "code",
   "execution_count": null,
   "metadata": {},
   "outputs": [],
   "source": []
  },
  {
   "cell_type": "code",
   "execution_count": null,
   "metadata": {},
   "outputs": [],
   "source": []
  }
 ],
 "metadata": {
  "kernelspec": {
   "display_name": "Python 3",
   "language": "python",
   "name": "python3"
  },
  "language_info": {
   "codemirror_mode": {
    "name": "ipython",
    "version": 3
   },
   "file_extension": ".py",
   "mimetype": "text/x-python",
   "name": "python",
   "nbconvert_exporter": "python",
   "pygments_lexer": "ipython3",
   "version": "3.7.6"
  }
 },
 "nbformat": 4,
 "nbformat_minor": 4
}
